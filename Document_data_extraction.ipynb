{
  "nbformat": 4,
  "nbformat_minor": 0,
  "metadata": {
    "colab": {
      "provenance": []
    },
    "kernelspec": {
      "name": "python3",
      "display_name": "Python 3"
    },
    "language_info": {
      "name": "python"
    }
  },
  "cells": [
    {
      "cell_type": "code",
      "metadata": {
        "colab": {
          "base_uri": "https://localhost:8080/"
        },
        "id": "025a09f2",
        "outputId": "d2a561c4-b0fc-41bf-d4ae-6fdd7e20a138"
      },
      "source": [
        "!pip install pytesseract"
      ],
      "execution_count": 42,
      "outputs": [
        {
          "output_type": "stream",
          "name": "stdout",
          "text": [
            "Requirement already satisfied: pytesseract in /usr/local/lib/python3.11/dist-packages (0.3.13)\n",
            "Requirement already satisfied: packaging>=21.3 in /usr/local/lib/python3.11/dist-packages (from pytesseract) (25.0)\n",
            "Requirement already satisfied: Pillow>=8.0.0 in /usr/local/lib/python3.11/dist-packages (from pytesseract) (11.3.0)\n"
          ]
        }
      ]
    },
    {
      "cell_type": "code",
      "metadata": {
        "colab": {
          "base_uri": "https://localhost:8080/"
        },
        "id": "685fcc6d",
        "outputId": "d988e802-3d7c-4d53-fd13-b42ff2de4a65"
      },
      "source": [
        "!pip install faker"
      ],
      "execution_count": 43,
      "outputs": [
        {
          "output_type": "stream",
          "name": "stdout",
          "text": [
            "Requirement already satisfied: faker in /usr/local/lib/python3.11/dist-packages (37.5.3)\n",
            "Requirement already satisfied: tzdata in /usr/local/lib/python3.11/dist-packages (from faker) (2025.2)\n"
          ]
        }
      ]
    },
    {
      "cell_type": "code",
      "source": [
        "import os\n",
        "import random\n",
        "import string\n",
        "from faker import Faker\n",
        "from PIL import Image, ImageDraw, ImageFont\n",
        "import cv2\n",
        "import numpy as np\n",
        "import pandas as pd"
      ],
      "metadata": {
        "id": "2FQu_mJZdDPN"
      },
      "execution_count": 44,
      "outputs": []
    },
    {
      "cell_type": "code",
      "source": [
        "fake = Faker()\n",
        "output_dir = \"synthetic_dataset\"\n",
        "os.makedirs(output_dir, exist_ok=True)"
      ],
      "metadata": {
        "id": "xmdvXAw1jsPr"
      },
      "execution_count": 45,
      "outputs": []
    },
    {
      "cell_type": "code",
      "source": [
        "def generate_pan():\n",
        "    letters = string.ascii_uppercase\n",
        "    return ''.join(random.choices(letters, k=5)) + \\\n",
        "           ''.join(random.choices(string.digits, k=4)) + \\\n",
        "           random.choice(letters)"
      ],
      "metadata": {
        "id": "_MOAvHDpjvZd"
      },
      "execution_count": 46,
      "outputs": []
    },
    {
      "cell_type": "code",
      "source": [
        "def add_noise(img):\n",
        "    img_np = np.array(img)\n",
        "    noise = np.random.randint(0, 20, img_np.shape, dtype='uint8')\n",
        "    img_np = cv2.add(img_np, noise)\n",
        "    img_np = cv2.GaussianBlur(img_np, (3, 3), 0)\n",
        "    return Image.fromarray(img_np)\n"
      ],
      "metadata": {
        "id": "iwCO-sOujvcC"
      },
      "execution_count": 47,
      "outputs": []
    },
    {
      "cell_type": "code",
      "source": [
        "def create_document(doc_id):\n",
        "    name = fake.name()\n",
        "    pan = generate_pan()\n",
        "    salary = random.randint(20000, 150000)\n",
        "    loan_amount = random.randint(50000, 1200000)\n",
        "\n",
        "    img = Image.new(\"RGB\", (800, 600), \"white\")\n",
        "    draw = ImageDraw.Draw(img)\n",
        "\n",
        "    try:\n",
        "        font = ImageFont.truetype(\"arial.ttf\", 28)\n",
        "    except:\n",
        "        font = ImageFont.load_default()\n",
        "\n",
        "    draw.text((50, 50), f\"Name: {name}\", fill=\"black\", font=font)\n",
        "    draw.text((50, 100), f\"PAN: {pan}\", fill=\"black\", font=font)\n",
        "    draw.text((50, 150), f\"Salary: {salary:,}\", fill=\"black\", font=font)\n",
        "    draw.text((50, 200), f\"Loan Amount: {loan_amount:,}\", fill=\"black\", font=font)\n",
        "\n",
        "    img_noisy = add_noise(img)\n",
        "\n",
        "    img_path = os.path.join(output_dir, f\"doc_{doc_id}.png\")\n",
        "    img_noisy.save(img_path)\n",
        "\n",
        "    with open(os.path.join(output_dir, f\"doc_{doc_id}.txt\"), \"w\") as f:\n",
        "        f.write(f\"Name: {name}\\nPAN: {pan}\\nSalary: {salary}\\nLoanAmount: {loan_amount}\")"
      ],
      "metadata": {
        "id": "MHAgns1wjve3"
      },
      "execution_count": 48,
      "outputs": []
    },
    {
      "cell_type": "code",
      "source": [
        "for i in range(100):\n",
        "    create_document(i)\n",
        "\n",
        "print(f\"Generated 100 synthetic documents in '{output_dir}'\")\n"
      ],
      "metadata": {
        "colab": {
          "base_uri": "https://localhost:8080/"
        },
        "id": "acIRKqxfjvhe",
        "outputId": "1758ff80-6aea-44a0-fd24-4b209b427abf"
      },
      "execution_count": 49,
      "outputs": [
        {
          "output_type": "stream",
          "name": "stdout",
          "text": [
            "Generated 100 synthetic documents in 'synthetic_dataset'\n"
          ]
        }
      ]
    },
    {
      "cell_type": "code",
      "source": [
        "import pytesseract\n",
        "import regex as re\n",
        "import os\n",
        "import sys"
      ],
      "metadata": {
        "id": "foTP8AUYjvkJ"
      },
      "execution_count": 50,
      "outputs": []
    },
    {
      "cell_type": "code",
      "source": [
        "def preprocess_image(image_path):\n",
        "    image = cv2.imread(image_path)\n",
        "    gray = cv2.cvtColor(image, cv2.COLOR_BGR2GRAY)\n",
        "    gray = cv2.resize(gray, None, fx=2, fy=2, interpolation=cv2.INTER_CUBIC)\n",
        "    denoised = cv2.fastNlMeansDenoising(gray, h=20)\n",
        "    thresh = cv2.adaptiveThreshold(\n",
        "        denoised, 255,\n",
        "        cv2.ADAPTIVE_THRESH_GAUSSIAN_C,\n",
        "        cv2.THRESH_BINARY, 15, 9\n",
        "    )\n",
        "    return thresh"
      ],
      "metadata": {
        "id": "t1vPdwgIjvmw"
      },
      "execution_count": 51,
      "outputs": []
    },
    {
      "cell_type": "code",
      "source": [
        "def extract_text(image):\n",
        "    custom_config = r'--oem 3 --psm 6'\n",
        "    return pytesseract.image_to_string(image, config=custom_config)"
      ],
      "metadata": {
        "id": "D1CZ1WYpkCtq"
      },
      "execution_count": 52,
      "outputs": []
    },
    {
      "cell_type": "code",
      "source": [
        "def extract_fields(text):\n",
        "    fields = {}\n",
        "\n",
        "    clean_text = text.replace(\"\\n\", \" \").replace(\"  \", \" \")\n",
        "\n",
        "    clean_text = clean_text.replace(\"PAR \", \"PAN \").replace(\"PAH \", \"PAN \")\n",
        "    clean_text = clean_text.replace(\"Salan\", \"Salary\").replace(\"Selary\", \"Salary\")\n",
        "    clean_text = clean_text.replace(\"Lonn\", \"Loan\").replace(\"Loen\", \"Loan\")\n",
        "\n",
        "    name_match = re.search(r'Name[:\\s]+([A-Z][a-z]+(?:\\s[A-Z][a-z]+)*)', clean_text)\n",
        "    if not name_match:\n",
        "        name_match = re.search(r'^([A-Z][a-z]+(?:\\s[A-Z][a-z]+)*)\\s+PAN', clean_text)\n",
        "\n",
        "    pan_match = re.search(r'\\b[A-Z]{5}\\d{4}[A-Z]\\b', clean_text)\n",
        "\n",
        "    salary_match = re.search(r'Salary[:\\s]*([\\d,]+)', clean_text, re.IGNORECASE)\n",
        "\n",
        "    loan_amt_match = re.search(r'Loan Amount[:\\s]*([\\d,]+)', clean_text, re.IGNORECASE)\n",
        "\n",
        "    if name_match:\n",
        "        fields['Name'] = name_match.group(1)\n",
        "    if pan_match:\n",
        "        fields['PAN'] = pan_match.group(0)\n",
        "    if salary_match:\n",
        "        fields['Salary'] = float(salary_match.group(1).replace(',', ''))\n",
        "    if loan_amt_match:\n",
        "        fields['LoanAmount'] = float(loan_amt_match.group(1).replace(',', ''))\n",
        "\n",
        "    return fields\n"
      ],
      "metadata": {
        "id": "Zms7jOeGkIP0"
      },
      "execution_count": 58,
      "outputs": []
    },
    {
      "cell_type": "code",
      "source": [
        "import math\n",
        "\n",
        "def check_eligibility(fields):\n",
        "    if 'Salary' not in fields or 'LoanAmount' not in fields:\n",
        "        return 'Manual Review'\n",
        "\n",
        "    monthly_income = fields['Salary']\n",
        "    loan_amt = fields['LoanAmount']\n",
        "\n",
        "    annual_interest_rate = 0.10\n",
        "    tenure_years = 5\n",
        "    max_emi_ratio = 0.4\n",
        "\n",
        "    monthly_rate = annual_interest_rate / 12\n",
        "    months = tenure_years * 12\n",
        "\n",
        "    emi = (loan_amt * monthly_rate * (1 + monthly_rate)**months) / \\\n",
        "          ((1 + monthly_rate)**months - 1)\n",
        "\n",
        "    if emi <= monthly_income * max_emi_ratio:\n",
        "        return 'Eligible'\n",
        "    else:\n",
        "        return 'Not Eligible'\n"
      ],
      "metadata": {
        "id": "Fkkxal2ikM2V"
      },
      "execution_count": 59,
      "outputs": []
    },
    {
      "cell_type": "code",
      "source": [
        "results=[]\n",
        "def process_document(image_path):\n",
        "    print(f\"\\nProcessing: {image_path}\")\n",
        "    image = preprocess_image(image_path)\n",
        "    text = extract_text(image)\n",
        "    fields = extract_fields(text)\n",
        "    status = check_eligibility(fields)\n",
        "    return fields, status"
      ],
      "metadata": {
        "id": "ignwdG6NkWV0"
      },
      "execution_count": 60,
      "outputs": []
    },
    {
      "cell_type": "code",
      "source": [
        "if __name__ == \"__main__\":\n",
        "    folder = \"synthetic_dataset1\"\n",
        "    if not os.path.isdir(folder):\n",
        "        print(f\"Error: '{folder}' is not a valid folder.\")\n",
        "        sys.exit(1)\n",
        "\n",
        "    for file in os.listdir(folder):\n",
        "        if file.lower().endswith(('.jpg', '.jpeg', '.png')):\n",
        "            extracted_fields, eligibility_status = process_document(os.path.join(folder, file))\n",
        "            if extracted_fields:\n",
        "                results.append(extracted_fields)"
      ],
      "metadata": {
        "colab": {
          "base_uri": "https://localhost:8080/"
        },
        "id": "9JP7YGbFkZYK",
        "outputId": "2deb3341-4858-4e23-bb00-70676871dd11"
      },
      "execution_count": 61,
      "outputs": [
        {
          "output_type": "stream",
          "name": "stdout",
          "text": [
            "\n",
            "Processing: synthetic_dataset1/doc_13.png\n",
            "\n",
            "Processing: synthetic_dataset1/doc_24.png\n",
            "\n",
            "Processing: synthetic_dataset1/doc_96.png\n",
            "\n",
            "Processing: synthetic_dataset1/doc_66.png\n",
            "\n",
            "Processing: synthetic_dataset1/doc_33.png\n",
            "\n",
            "Processing: synthetic_dataset1/doc_36.png\n",
            "\n",
            "Processing: synthetic_dataset1/doc_29.png\n",
            "\n",
            "Processing: synthetic_dataset1/doc_73.png\n",
            "\n",
            "Processing: synthetic_dataset1/doc_27.png\n",
            "\n",
            "Processing: synthetic_dataset1/doc_12.png\n",
            "\n",
            "Processing: synthetic_dataset1/doc_19.png\n",
            "\n",
            "Processing: synthetic_dataset1/doc_79.png\n",
            "\n",
            "Processing: synthetic_dataset1/doc_62.png\n",
            "\n",
            "Processing: synthetic_dataset1/doc_84.png\n",
            "\n",
            "Processing: synthetic_dataset1/doc_22.png\n",
            "\n",
            "Processing: synthetic_dataset1/doc_21.png\n",
            "\n",
            "Processing: synthetic_dataset1/doc_31.png\n",
            "\n",
            "Processing: synthetic_dataset1/doc_50.png\n",
            "\n",
            "Processing: synthetic_dataset1/doc_75.png\n",
            "\n",
            "Processing: synthetic_dataset1/doc_8.png\n",
            "\n",
            "Processing: synthetic_dataset1/doc_18.png\n",
            "\n",
            "Processing: synthetic_dataset1/doc_57.png\n",
            "\n",
            "Processing: synthetic_dataset1/doc_9.png\n",
            "\n",
            "Processing: synthetic_dataset1/doc_64.png\n",
            "\n",
            "Processing: synthetic_dataset1/doc_40.png\n",
            "\n",
            "Processing: synthetic_dataset1/doc_35.png\n",
            "\n",
            "Processing: synthetic_dataset1/doc_52.png\n",
            "\n",
            "Processing: synthetic_dataset1/doc_38.png\n",
            "\n",
            "Processing: synthetic_dataset1/doc_83.png\n",
            "\n",
            "Processing: synthetic_dataset1/doc_16.png\n",
            "\n",
            "Processing: synthetic_dataset1/doc_88.png\n",
            "\n",
            "Processing: synthetic_dataset1/doc_26.png\n",
            "\n",
            "Processing: synthetic_dataset1/doc_69.png\n",
            "\n",
            "Processing: synthetic_dataset1/doc_63.png\n",
            "\n",
            "Processing: synthetic_dataset1/doc_92.png\n",
            "\n",
            "Processing: synthetic_dataset1/doc_91.png\n",
            "\n",
            "Processing: synthetic_dataset1/doc_2.png\n",
            "\n",
            "Processing: synthetic_dataset1/doc_76.png\n",
            "\n",
            "Processing: synthetic_dataset1/doc_44.png\n",
            "\n",
            "Processing: synthetic_dataset1/doc_86.png\n",
            "\n",
            "Processing: synthetic_dataset1/doc_95.png\n",
            "\n",
            "Processing: synthetic_dataset1/doc_7.png\n",
            "\n",
            "Processing: synthetic_dataset1/doc_39.png\n",
            "\n",
            "Processing: synthetic_dataset1/doc_68.png\n",
            "\n",
            "Processing: synthetic_dataset1/doc_78.png\n",
            "\n",
            "Processing: synthetic_dataset1/doc_56.png\n",
            "\n",
            "Processing: synthetic_dataset1/doc_11.png\n",
            "\n",
            "Processing: synthetic_dataset1/doc_90.png\n",
            "\n",
            "Processing: synthetic_dataset1/doc_53.png\n",
            "\n",
            "Processing: synthetic_dataset1/doc_42.png\n",
            "\n",
            "Processing: synthetic_dataset1/doc_32.png\n",
            "\n",
            "Processing: synthetic_dataset1/doc_71.png\n",
            "\n",
            "Processing: synthetic_dataset1/doc_5.png\n",
            "\n",
            "Processing: synthetic_dataset1/doc_74.png\n",
            "\n",
            "Processing: synthetic_dataset1/doc_51.png\n",
            "\n",
            "Processing: synthetic_dataset1/doc_4.png\n",
            "\n",
            "Processing: synthetic_dataset1/doc_0.png\n",
            "\n",
            "Processing: synthetic_dataset1/doc_37.png\n",
            "\n",
            "Processing: synthetic_dataset1/doc_25.png\n",
            "\n",
            "Processing: synthetic_dataset1/doc_54.png\n",
            "\n",
            "Processing: synthetic_dataset1/doc_72.png\n",
            "\n",
            "Processing: synthetic_dataset1/doc_14.png\n",
            "\n",
            "Processing: synthetic_dataset1/doc_3.png\n",
            "\n",
            "Processing: synthetic_dataset1/doc_46.png\n",
            "\n",
            "Processing: synthetic_dataset1/doc_1.png\n",
            "\n",
            "Processing: synthetic_dataset1/doc_85.png\n",
            "\n",
            "Processing: synthetic_dataset1/doc_34.png\n",
            "\n",
            "Processing: synthetic_dataset1/doc_23.png\n",
            "\n",
            "Processing: synthetic_dataset1/doc_17.png\n",
            "\n",
            "Processing: synthetic_dataset1/doc_55.png\n",
            "\n",
            "Processing: synthetic_dataset1/doc_80.png\n",
            "\n",
            "Processing: synthetic_dataset1/doc_30.png\n",
            "\n",
            "Processing: synthetic_dataset1/doc_93.png\n",
            "\n",
            "Processing: synthetic_dataset1/doc_43.png\n",
            "\n",
            "Processing: synthetic_dataset1/doc_82.png\n",
            "\n",
            "Processing: synthetic_dataset1/doc_49.png\n",
            "\n",
            "Processing: synthetic_dataset1/doc_89.png\n",
            "\n",
            "Processing: synthetic_dataset1/doc_98.png\n",
            "\n",
            "Processing: synthetic_dataset1/doc_60.png\n",
            "\n",
            "Processing: synthetic_dataset1/doc_45.png\n",
            "\n",
            "Processing: synthetic_dataset1/doc_20.png\n",
            "\n",
            "Processing: synthetic_dataset1/doc_81.png\n",
            "\n",
            "Processing: synthetic_dataset1/doc_58.png\n",
            "\n",
            "Processing: synthetic_dataset1/doc_28.png\n",
            "\n",
            "Processing: synthetic_dataset1/doc_65.png\n",
            "\n",
            "Processing: synthetic_dataset1/doc_41.png\n",
            "\n",
            "Processing: synthetic_dataset1/doc_87.png\n",
            "\n",
            "Processing: synthetic_dataset1/doc_61.png\n",
            "\n",
            "Processing: synthetic_dataset1/doc_10.png\n",
            "\n",
            "Processing: synthetic_dataset1/doc_70.png\n",
            "\n",
            "Processing: synthetic_dataset1/doc_94.png\n",
            "\n",
            "Processing: synthetic_dataset1/doc_77.png\n",
            "\n",
            "Processing: synthetic_dataset1/doc_59.png\n",
            "\n",
            "Processing: synthetic_dataset1/doc_15.png\n",
            "\n",
            "Processing: synthetic_dataset1/doc_47.png\n",
            "\n",
            "Processing: synthetic_dataset1/doc_6.png\n",
            "\n",
            "Processing: synthetic_dataset1/doc_48.png\n",
            "\n",
            "Processing: synthetic_dataset1/doc_67.png\n",
            "\n",
            "Processing: synthetic_dataset1/doc_97.png\n",
            "\n",
            "Processing: synthetic_dataset1/doc_99.png\n"
          ]
        }
      ]
    },
    {
      "cell_type": "code",
      "source": [
        "df = pd.DataFrame(results)"
      ],
      "metadata": {
        "id": "DRaYubpkkgRS"
      },
      "execution_count": 62,
      "outputs": []
    },
    {
      "cell_type": "code",
      "source": [
        "df.to_excel(\"results.xlsx\")"
      ],
      "metadata": {
        "id": "_uXPHbJZp8gA"
      },
      "execution_count": 63,
      "outputs": []
    },
    {
      "cell_type": "code",
      "source": [],
      "metadata": {
        "id": "ysAj1RKuqDgg"
      },
      "execution_count": null,
      "outputs": []
    }
  ]
}