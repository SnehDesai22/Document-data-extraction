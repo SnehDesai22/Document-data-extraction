{
  "nbformat": 4,
  "nbformat_minor": 0,
  "metadata": {
    "colab": {
      "provenance": []
    },
    "kernelspec": {
      "name": "python3",
      "display_name": "Python 3"
    },
    "language_info": {
      "name": "python"
    }
  },
  "cells": [
    {
      "cell_type": "code",
      "metadata": {
        "colab": {
          "base_uri": "https://localhost:8080/"
        },
        "id": "025a09f2",
        "outputId": "a3bc9dfd-090a-42b2-a036-c577dc4244e4"
      },
      "source": [
        "!pip install pytesseract"
      ],
      "execution_count": 1,
      "outputs": [
        {
          "output_type": "stream",
          "name": "stdout",
          "text": [
            "Collecting pytesseract\n",
            "  Downloading pytesseract-0.3.13-py3-none-any.whl.metadata (11 kB)\n",
            "Requirement already satisfied: packaging>=21.3 in /usr/local/lib/python3.11/dist-packages (from pytesseract) (25.0)\n",
            "Requirement already satisfied: Pillow>=8.0.0 in /usr/local/lib/python3.11/dist-packages (from pytesseract) (11.3.0)\n",
            "Downloading pytesseract-0.3.13-py3-none-any.whl (14 kB)\n",
            "Installing collected packages: pytesseract\n",
            "Successfully installed pytesseract-0.3.13\n"
          ]
        }
      ]
    },
    {
      "cell_type": "code",
      "metadata": {
        "colab": {
          "base_uri": "https://localhost:8080/"
        },
        "id": "685fcc6d",
        "outputId": "370e2f76-3062-4a5a-d065-383e7ad58083"
      },
      "source": [
        "!pip install faker"
      ],
      "execution_count": 2,
      "outputs": [
        {
          "output_type": "stream",
          "name": "stdout",
          "text": [
            "Collecting faker\n",
            "  Downloading faker-37.5.3-py3-none-any.whl.metadata (15 kB)\n",
            "Requirement already satisfied: tzdata in /usr/local/lib/python3.11/dist-packages (from faker) (2025.2)\n",
            "Downloading faker-37.5.3-py3-none-any.whl (1.9 MB)\n",
            "\u001b[?25l   \u001b[90m━━━━━━━━━━━━━━━━━━━━━━━━━━━━━━━━━━━━━━━━\u001b[0m \u001b[32m0.0/1.9 MB\u001b[0m \u001b[31m?\u001b[0m eta \u001b[36m-:--:--\u001b[0m\r\u001b[2K   \u001b[91m━━━\u001b[0m\u001b[91m╸\u001b[0m\u001b[90m━━━━━━━━━━━━━━━━━━━━━━━━━━━━━━━━━━━━\u001b[0m \u001b[32m0.2/1.9 MB\u001b[0m \u001b[31m5.0 MB/s\u001b[0m eta \u001b[36m0:00:01\u001b[0m\r\u001b[2K   \u001b[91m━━━━━━━━━━━━━━━━━━━━━━━━\u001b[0m\u001b[90m╺\u001b[0m\u001b[90m━━━━━━━━━━━━━━━\u001b[0m \u001b[32m1.2/1.9 MB\u001b[0m \u001b[31m18.2 MB/s\u001b[0m eta \u001b[36m0:00:01\u001b[0m\r\u001b[2K   \u001b[91m━━━━━━━━━━━━━━━━━━━━━━━━━━━━━━━━━━━━━━━\u001b[0m\u001b[91m╸\u001b[0m \u001b[32m1.9/1.9 MB\u001b[0m \u001b[31m23.7 MB/s\u001b[0m eta \u001b[36m0:00:01\u001b[0m\r\u001b[2K   \u001b[90m━━━━━━━━━━━━━━━━━━━━━━━━━━━━━━━━━━━━━━━━\u001b[0m \u001b[32m1.9/1.9 MB\u001b[0m \u001b[31m17.9 MB/s\u001b[0m eta \u001b[36m0:00:00\u001b[0m\n",
            "\u001b[?25hInstalling collected packages: faker\n",
            "Successfully installed faker-37.5.3\n"
          ]
        }
      ]
    },
    {
      "cell_type": "code",
      "source": [
        "import os\n",
        "import torch\n",
        "from torchvision.utils import save_image\n",
        "from torchvision import transforms\n",
        "from PIL import Image\n",
        "import requests\n",
        "from io import BytesIO"
      ],
      "metadata": {
        "id": "2FQu_mJZdDPN"
      },
      "execution_count": 3,
      "outputs": []
    },
    {
      "cell_type": "code",
      "source": [
        "os.makedirs(\"synthetic_dataset_gan\", exist_ok=True)"
      ],
      "metadata": {
        "id": "xmdvXAw1jsPr"
      },
      "execution_count": 4,
      "outputs": []
    },
    {
      "cell_type": "code",
      "source": [
        "model = torch.hub.load('facebookresearch/pytorch_GAN_zoo:hub', 'DCGAN', pretrained=True)"
      ],
      "metadata": {
        "colab": {
          "base_uri": "https://localhost:8080/"
        },
        "id": "_MOAvHDpjvZd",
        "outputId": "74c83c87-3889-49d4-a016-d94bb5aaecfd"
      },
      "execution_count": 6,
      "outputs": [
        {
          "output_type": "stream",
          "name": "stderr",
          "text": [
            "Using cache found in /root/.cache/torch/hub/facebookresearch_pytorch_GAN_zoo_hub\n"
          ]
        },
        {
          "output_type": "stream",
          "name": "stdout",
          "text": [
            "Average network found !\n"
          ]
        }
      ]
    },
    {
      "cell_type": "code",
      "source": [
        "def generate_synthetic_docs(num_images=5, out_dir=\"synthetic_dataset_gan\"):\n",
        "    for i in range(num_images):\n",
        "        z = torch.randn(1, 120, 1, 1)\n",
        "        with torch.no_grad():\n",
        "            fake_img = model.test(z)\n",
        "        fake_img = (fake_img + 1) / 2\n",
        "        save_path = os.path.join(out_dir, f\"doc_gan_{i+1}.png\")\n",
        "        save_image(fake_img, save_path)\n",
        "        print(f\"Saved: {save_path}\")"
      ],
      "metadata": {
        "id": "iwCO-sOujvcC"
      },
      "execution_count": 9,
      "outputs": []
    },
    {
      "cell_type": "code",
      "source": [
        "generate_synthetic_docs(num_images=10)"
      ],
      "metadata": {
        "colab": {
          "base_uri": "https://localhost:8080/"
        },
        "id": "MHAgns1wjve3",
        "outputId": "d66fa6bb-22fc-4da6-fd78-39509eb7a58d"
      },
      "execution_count": 10,
      "outputs": [
        {
          "output_type": "stream",
          "name": "stdout",
          "text": [
            "Saved: synthetic_dataset_gan/doc_gan_1.png\n",
            "Saved: synthetic_dataset_gan/doc_gan_2.png\n",
            "Saved: synthetic_dataset_gan/doc_gan_3.png\n",
            "Saved: synthetic_dataset_gan/doc_gan_4.png\n",
            "Saved: synthetic_dataset_gan/doc_gan_5.png\n",
            "Saved: synthetic_dataset_gan/doc_gan_6.png\n",
            "Saved: synthetic_dataset_gan/doc_gan_7.png\n",
            "Saved: synthetic_dataset_gan/doc_gan_8.png\n",
            "Saved: synthetic_dataset_gan/doc_gan_9.png\n",
            "Saved: synthetic_dataset_gan/doc_gan_10.png\n"
          ]
        }
      ]
    },
    {
      "cell_type": "code",
      "source": [
        "import pytesseract\n",
        "import regex as re\n",
        "import os\n",
        "import sys\n",
        "import cv2"
      ],
      "metadata": {
        "id": "foTP8AUYjvkJ"
      },
      "execution_count": 17,
      "outputs": []
    },
    {
      "cell_type": "code",
      "source": [
        "def preprocess_image(image_path):\n",
        "    image = cv2.imread(image_path)\n",
        "    gray = cv2.cvtColor(image, cv2.COLOR_BGR2GRAY)\n",
        "    gray = cv2.resize(gray, None, fx=2, fy=2, interpolation=cv2.INTER_CUBIC)\n",
        "    denoised = cv2.fastNlMeansDenoising(gray, h=20)\n",
        "    thresh = cv2.adaptiveThreshold(\n",
        "        denoised, 255,\n",
        "        cv2.ADAPTIVE_THRESH_GAUSSIAN_C,\n",
        "        cv2.THRESH_BINARY, 15, 9\n",
        "    )\n",
        "    return thresh"
      ],
      "metadata": {
        "id": "t1vPdwgIjvmw"
      },
      "execution_count": 18,
      "outputs": []
    },
    {
      "cell_type": "code",
      "source": [
        "def extract_text(image):\n",
        "    custom_config = r'--oem 3 --psm 6'\n",
        "    return pytesseract.image_to_string(image, config=custom_config)"
      ],
      "metadata": {
        "id": "D1CZ1WYpkCtq"
      },
      "execution_count": 19,
      "outputs": []
    },
    {
      "cell_type": "code",
      "source": [
        "def extract_fields(text):\n",
        "    fields = {}\n",
        "\n",
        "    clean_text = text.replace(\"\\n\", \" \").replace(\"  \", \" \")\n",
        "\n",
        "    clean_text = clean_text.replace(\"PAR \", \"PAN \").replace(\"PAH \", \"PAN \")\n",
        "    clean_text = clean_text.replace(\"Salan\", \"Salary\").replace(\"Selary\", \"Salary\")\n",
        "    clean_text = clean_text.replace(\"Lonn\", \"Loan\").replace(\"Loen\", \"Loan\")\n",
        "\n",
        "    name_match = re.search(r'Name[:\\s]+([A-Z][a-z]+(?:\\s[A-Z][a-z]+)*)', clean_text)\n",
        "    if not name_match:\n",
        "        name_match = re.search(r'^([A-Z][a-z]+(?:\\s[A-Z][a-z]+)*)\\s+PAN', clean_text)\n",
        "\n",
        "    pan_match = re.search(r'\\b[A-Z]{5}\\d{4}[A-Z]\\b', clean_text)\n",
        "\n",
        "    salary_match = re.search(r'Salary[:\\s]*([\\d,]+)', clean_text, re.IGNORECASE)\n",
        "\n",
        "    loan_amt_match = re.search(r'Loan Amount[:\\s]*([\\d,]+)', clean_text, re.IGNORECASE)\n",
        "\n",
        "    if name_match:\n",
        "        fields['Name'] = name_match.group(1)\n",
        "    if pan_match:\n",
        "        fields['PAN'] = pan_match.group(0)\n",
        "    if salary_match:\n",
        "        fields['Salary'] = float(salary_match.group(1).replace(',', ''))\n",
        "    if loan_amt_match:\n",
        "        fields['LoanAmount'] = float(loan_amt_match.group(1).replace(',', ''))\n",
        "\n",
        "    return fields\n"
      ],
      "metadata": {
        "id": "Zms7jOeGkIP0"
      },
      "execution_count": 21,
      "outputs": []
    },
    {
      "cell_type": "code",
      "source": [
        "import math\n",
        "\n",
        "def check_eligibility(fields):\n",
        "    if 'Salary' not in fields or 'LoanAmount' not in fields:\n",
        "        return 'Manual Review'\n",
        "\n",
        "    monthly_income = fields['Salary']\n",
        "    loan_amt = fields['LoanAmount']\n",
        "\n",
        "    annual_interest_rate = 0.10\n",
        "    tenure_years = 5\n",
        "    max_emi_ratio = 0.4\n",
        "\n",
        "    monthly_rate = annual_interest_rate / 12\n",
        "    months = tenure_years * 12\n",
        "\n",
        "    emi = (loan_amt * monthly_rate * (1 + monthly_rate)**months) / \\\n",
        "          ((1 + monthly_rate)**months - 1)\n",
        "\n",
        "    if emi <= monthly_income * max_emi_ratio:\n",
        "        return 'Eligible'\n",
        "    else:\n",
        "        return 'Not Eligible'\n"
      ],
      "metadata": {
        "id": "Fkkxal2ikM2V"
      },
      "execution_count": 22,
      "outputs": []
    },
    {
      "cell_type": "code",
      "source": [
        "results=[]\n",
        "def process_document(image_path):\n",
        "    print(f\"\\nProcessing: {image_path}\")\n",
        "    image = preprocess_image(image_path)\n",
        "    text = extract_text(image)\n",
        "    fields = extract_fields(text)\n",
        "    status = check_eligibility(fields)\n",
        "    return fields, status"
      ],
      "metadata": {
        "id": "ignwdG6NkWV0"
      },
      "execution_count": 23,
      "outputs": []
    },
    {
      "cell_type": "code",
      "source": [
        "if __name__ == \"__main__\":\n",
        "    folder = \"synthetic_dataset_gan\"\n",
        "    if not os.path.isdir(folder):\n",
        "        print(f\"Error: '{folder}' is not a valid folder.\")\n",
        "        sys.exit(1)\n",
        "\n",
        "    for file in os.listdir(folder):\n",
        "        if file.lower().endswith(('.jpg', '.jpeg', '.png')):\n",
        "            extracted_fields, eligibility_status = process_document(os.path.join(folder, file))\n",
        "            if extracted_fields:\n",
        "                results.append(extracted_fields)"
      ],
      "metadata": {
        "colab": {
          "base_uri": "https://localhost:8080/"
        },
        "id": "9JP7YGbFkZYK",
        "outputId": "ed8231ca-d257-466c-9577-87c6b7e2e996"
      },
      "execution_count": 25,
      "outputs": [
        {
          "output_type": "stream",
          "name": "stdout",
          "text": [
            "\n",
            "Processing: synthetic_dataset_gan/doc_gan_5.png\n",
            "\n",
            "Processing: synthetic_dataset_gan/doc_gan_6.png\n",
            "\n",
            "Processing: synthetic_dataset_gan/doc_gan_9.png\n",
            "\n",
            "Processing: synthetic_dataset_gan/doc_gan_7.png\n",
            "\n",
            "Processing: synthetic_dataset_gan/doc_gan_1.png\n",
            "\n",
            "Processing: synthetic_dataset_gan/doc_gan_3.png\n",
            "\n",
            "Processing: synthetic_dataset_gan/doc_gan_2.png\n",
            "\n",
            "Processing: synthetic_dataset_gan/doc_gan_4.png\n",
            "\n",
            "Processing: synthetic_dataset_gan/doc_gan_8.png\n",
            "\n",
            "Processing: synthetic_dataset_gan/doc_gan_10.png\n"
          ]
        }
      ]
    },
    {
      "cell_type": "code",
      "source": [
        "import pandas as pd"
      ],
      "metadata": {
        "id": "DHF3tB0d7NQd"
      },
      "execution_count": 27,
      "outputs": []
    },
    {
      "cell_type": "code",
      "source": [
        "df = pd.DataFrame(results)"
      ],
      "metadata": {
        "id": "DRaYubpkkgRS"
      },
      "execution_count": 31,
      "outputs": []
    },
    {
      "cell_type": "code",
      "source": [
        "df.to_excel(\"results.xlsx\")"
      ],
      "metadata": {
        "id": "_uXPHbJZp8gA"
      },
      "execution_count": 29,
      "outputs": []
    },
    {
      "cell_type": "code",
      "source": [],
      "metadata": {
        "id": "ysAj1RKuqDgg"
      },
      "execution_count": null,
      "outputs": []
    }
  ]
}